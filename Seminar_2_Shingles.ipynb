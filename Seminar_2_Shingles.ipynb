{
 "cells": [
  {
   "cell_type": "markdown",
   "id": "190c4eea",
   "metadata": {},
   "source": [
    "# Семинар №2. Префиксное дерево и шинглы"
   ]
  },
  {
   "cell_type": "markdown",
   "id": "b9909fdd",
   "metadata": {},
   "source": [
    "**План**\n",
    "1. Про лабы\n",
    "2. Пишем руками руками префиксное дерево\n",
    "2. Пишем алгоритм шинглов\n",
    "3. Посмотрим на библиотеки, которые сами все это умеют"
   ]
  },
  {
   "cell_type": "code",
   "execution_count": null,
   "id": "cbf150a7",
   "metadata": {},
   "outputs": [],
   "source": [
    "from pymorphy3 import MorphAnalyzer\n",
    "from nltk.tokenize import word_tokenize\n",
    "from string import punctuation\n",
    "from functools import cache\n",
    "from typing import Tuple\n",
    "import hashlib\n",
    "\n",
    "morph = MorphAnalyzer()"
   ]
  },
  {
   "cell_type": "markdown",
   "id": "7deaee34-c964-432d-b263-cdeef2ccc9a3",
   "metadata": {},
   "source": [
    "## Прочитаем и подготовим данные"
   ]
  },
  {
   "cell_type": "code",
   "execution_count": null,
   "id": "59f3248e",
   "metadata": {},
   "outputs": [],
   "source": [
    "with open('text.txt', encoding='utf-8') as f:\n",
    "    text = f.read()"
   ]
  },
  {
   "cell_type": "code",
   "execution_count": null,
   "id": "201d5070-e298-4b9c-9263-9c72cb590f29",
   "metadata": {},
   "outputs": [],
   "source": [
    "@cache\n",
    "def process_word(word):\n",
    "    if (word not in punctuation) and (word.isalpha()):\n",
    "        word = morph.parse(word.lower())[0].normal_form\n",
    "        return word"
   ]
  },
  {
   "cell_type": "code",
   "execution_count": null,
   "id": "e2c0e0cc-1e2f-40cc-a945-3eee0655fa87",
   "metadata": {},
   "outputs": [],
   "source": [
    "def preprocess_text(text):\n",
    "    words = word_tokenize(text)\n",
    "    res = []\n",
    "    for word in words:\n",
    "        word = process_word(word)\n",
    "        if word is not None:\n",
    "            res.append(word)\n",
    "    return res"
   ]
  },
  {
   "cell_type": "code",
   "execution_count": null,
   "id": "e6376ada-97d0-4857-9989-75520022b45b",
   "metadata": {},
   "outputs": [],
   "source": [
    "words_lst = preprocess_text(text)\n",
    "words_lst_unique_sorted = [el for el in sorted(set(words_lst))]\n",
    "words_lst_unique_sorted[:10]"
   ]
  },
  {
   "cell_type": "markdown",
   "id": "89f60699-8427-4308-af47-a33663726049",
   "metadata": {},
   "source": [
    "## Строим префиксное дерево"
   ]
  },
  {
   "cell_type": "code",
   "execution_count": null,
   "id": "0085294b-a778-4941-be7a-608944c55372",
   "metadata": {},
   "outputs": [],
   "source": [
    "class PrefixTree:\n",
    "    def __init__(self):\n",
    "        pass\n",
    "\n",
    "    def add(self, word) -> None:\n",
    "        pass\n",
    "\n",
    "    def find(self, word) -> Tuple[bool, int]:\n",
    "        pass\n",
    "\n",
    "    def remove(self, word) -> None:\n",
    "        pass"
   ]
  },
  {
   "cell_type": "code",
   "execution_count": null,
   "id": "e2e0db26-f3af-441f-8982-1b64a2d77b57",
   "metadata": {},
   "outputs": [],
   "source": [
    "tree = PrefixTree()\n",
    "tree.find('волшебник')"
   ]
  },
  {
   "cell_type": "markdown",
   "id": "d532a64b-263a-424c-9973-9822f8f9e5bd",
   "metadata": {},
   "source": [
    "## Алгоритм шинглов"
   ]
  },
  {
   "cell_type": "markdown",
   "id": "63759fec-7972-412a-bac6-909068353d78",
   "metadata": {},
   "source": [
    "Данные алгоритм был придуман, чтобы искать плагиат в текстах. Сейчас существуют более совершенные с точки зрения качества, но менее быстрые алгориитмы, однако шинглированеие все еще используется.\n",
    "\n",
    "Алгоритм следующий:\n",
    "- Нормализуем текст (лемматизация, удаление стоп-слов и пунктуации)\n",
    "- Разбиваем его на шинглы: окна в N текстов с отступом в K текстов (N > K)\n",
    "- Считаем хэши по шинглам\n",
    "- Сравниваем контрльные суммы. Если находим много совпадений, то считаем, что тексты очень похожи."
   ]
  },
  {
   "cell_type": "code",
   "execution_count": null,
   "id": "70ed8d9c-a232-4e66-b966-16891d82638b",
   "metadata": {},
   "outputs": [],
   "source": [
    "texts = [\n",
    "    'Кошки являются одними из самых популярных домашних животных. Они обладают прекрасным инстинктом охотника и неповторимым характером. Кошки известны своей независимостью, но при этом могут быть очень преданными и ласковыми к своим хозяевам. Они мастера по комфортному расслаблению и настоящим ценителям уютного места для сна. Кошки также отличаются своей элегантностью и грациозностью. Их изящные движения и манера двигаться делают их настоящими королевами, даже когда они просто играют или прогуливаются по дому.',\n",
    "    'Кошки - удивительные создания с мягкой шерстью и умными глазами. Они способны привносить радость и умиротворение в нашу жизнь. Кошки обладают способностью самостоятельно следить за собой, что делает их идеальными домашними животными для тех, кто ценит чистоту и порядок. Они часто проявляют свою ласку и привязанность к своим хозяевам. Игры с кошками могут стать незабываемым развлечением, их ловкость и быстрота поражают наблюдателей. Кошки - это прекрасные компаньоны, которые могут дарить нам уют и радость каждый день.',\n",
    "    'Кошки - это загадочные и красивые создания, что позволяет им занимать особое место в наших сердцах. Их глаза отражают таинственность и мудрость, а их мягкая шерсть манит гладить их без конца. Кошки могут быть самостоятельными, но при этом они жаждут внимания и ласки от своих хозяев. Они обладают уникальным характером, который можно описать как гордый и независимый, но в то же время ласковый и игривый. Наблюдать, как кошка мягко протягивает лапу или усаживается на свое любимое место, отдает нам чувство покоя и спокойствия. Кошки - прекрасные спутники, которые делают нашу жизнь более интересной и яркой.'\n",
    "    'Кошки — загадочные и прекрасные существа, которые завораживают своей грацией и неповторимым характером. Они способны сделать нашу жизнь более яркой и насыщенной. Кошки известны своей независимостью, но несмотря на это, они могут быть верными и преданными друзьями. Они обладают уникальной способностью принимать наши эмоции и поддерживать нас в трудные моменты. Кошки также являются отличными охотниками и отлично подходят для тех, кто хочет иметь домашнего питомца, не требующего особого ухода.',\n",
    "    'Кошки — истинные королевы нашего дома. Они обладают особой грацией и достоинством, которые притягивают взгляды и вызывают восхищение. Кошки являются мастерами по созданию уюта и комфорта в своем окружении. Они обожают ласку и внимание со стороны своих хозяев и готовы доставить им радость и умиротворение своим присутствием. Кошки способны понять нас без слов и стать настоящими спутниками в наших ежедневных заботах.',\n",
    "    'Кошки — таинственные создания, полные загадок и загадочности. Они притягивают наше внимание своими умными и интригующими глазами. Кошки обладают тонким чувством эстетики и красоты, которое отражается в их грациозных движениях и элегантности. Они могут быть игривыми и требовать нашего внимания, но в то же время они умеют наслаждаться тишиной и уединением. Кошки — это идеальные компаньоны для тех, кто ценит спокойствие и гармонию в своей жизни.'\n",
    "]"
   ]
  },
  {
   "cell_type": "code",
   "execution_count": null,
   "id": "e839d25f-4c27-4b6d-ac78-6211099193c1",
   "metadata": {},
   "outputs": [],
   "source": [
    "class Shingler:\n",
    "    def __init__(self,):\n",
    "        pass\n",
    "\n",
    "    def fit(self, data):\n",
    "        # hashlib.md5(t.encode()).hexdigest()\n",
    "        pass\n",
    "\n",
    "    def get_closest(self, text, n=3):\n",
    "        pass"
   ]
  },
  {
   "cell_type": "code",
   "execution_count": null,
   "id": "60af6695-2a50-4ad8-9df3-a4042abd1281",
   "metadata": {},
   "outputs": [],
   "source": [
    "shgl = Shingler()\n",
    "shgl.fit(texts)"
   ]
  },
  {
   "cell_type": "code",
   "execution_count": null,
   "id": "e8f81e31-36c1-43a5-88b3-2c5b32ad09b3",
   "metadata": {},
   "outputs": [],
   "source": [
    "shgl.get_closest(texts[2], n=3)"
   ]
  },
  {
   "cell_type": "markdown",
   "id": "468ca5a6-2b6a-404a-8508-e8171a2dc9c9",
   "metadata": {},
   "source": [
    "## Библиотеки"
   ]
  },
  {
   "cell_type": "markdown",
   "id": "2af84585-8a11-4436-b9ee-e71fc62405e4",
   "metadata": {},
   "source": [
    "**Префиксное дерево**\n",
    "\n",
    "[Дока](https://pygtrie.readthedocs.io/en/latest/)"
   ]
  },
  {
   "cell_type": "code",
   "execution_count": null,
   "id": "3e664ee1-69d2-4624-adcb-7296da0b5528",
   "metadata": {},
   "outputs": [],
   "source": [
    "!pip install pygtrie -q"
   ]
  },
  {
   "cell_type": "code",
   "execution_count": null,
   "id": "45311e20-0679-45dd-bf61-71ec923ac8f1",
   "metadata": {},
   "outputs": [],
   "source": [
    "import pygtrie"
   ]
  },
  {
   "cell_type": "code",
   "execution_count": null,
   "id": "b16cec20-a15a-45c9-a94a-0b2638c7abe9",
   "metadata": {},
   "outputs": [],
   "source": [
    "t = pygtrie.CharTrie()\n",
    "t['wombat'] = True\n",
    "t.has_subtrie('wo'), t.has_key('wo'), t.has_key('wombat')"
   ]
  },
  {
   "cell_type": "markdown",
   "id": "6e1219f5-ddaf-4c8c-887b-25cec43643fe",
   "metadata": {},
   "source": [
    "Давайте положим сюда текст, с которым работали выше"
   ]
  },
  {
   "cell_type": "code",
   "execution_count": null,
   "id": "1312b3cd-148e-495e-b81e-6aa3bd323556",
   "metadata": {},
   "outputs": [],
   "source": [
    "# code\n",
    "..."
   ]
  },
  {
   "cell_type": "markdown",
   "id": "db224d4e-cb2f-4501-9cf6-00012da8e068",
   "metadata": {},
   "source": [
    "**Шинглы** (char-based)\n",
    "\n",
    "[Дока](https://github.com/ulf1/kshingle)"
   ]
  },
  {
   "cell_type": "code",
   "execution_count": null,
   "id": "b4b011c2-f748-462a-b3db-bb677b579207",
   "metadata": {},
   "outputs": [],
   "source": [
    "!pip install \"kshingle>=0.10.0,<1\" -q"
   ]
  },
  {
   "cell_type": "code",
   "execution_count": null,
   "id": "f0cbf325-722f-4f82-b0e4-38be11b9e72a",
   "metadata": {},
   "outputs": [],
   "source": [
    "import kshingle as ks"
   ]
  },
  {
   "cell_type": "code",
   "execution_count": null,
   "id": "49ce797d-82fc-46a5-a42d-594a7fde7db9",
   "metadata": {},
   "outputs": [],
   "source": [
    "shingles = ks.shingleset_k(\"abc\", k=3)\n",
    "print(shingles)\n",
    "\n",
    "shingles = ks.shingleset_range(\"abc\", 2, 3)\n",
    "print(shingles)\n",
    "\n",
    "shingles = ks.shingleset_list(\"abc\", [1, 3])\n",
    "print(shingles)"
   ]
  },
  {
   "cell_type": "code",
   "execution_count": null,
   "id": "7eb8de44-3ef5-4058-8de8-de621c18af75",
   "metadata": {},
   "outputs": [],
   "source": [
    "metric = ks.jaccard_strings(\"Bericht\", \"berichten\", k=5)\n",
    "metric"
   ]
  },
  {
   "cell_type": "markdown",
   "id": "beb8a5c7-c44b-4a0a-8af1-891626c9d3d4",
   "metadata": {},
   "source": [
    "Давайте сравним наши тексты из пункта про шинглы"
   ]
  },
  {
   "cell_type": "code",
   "execution_count": null,
   "id": "b570dba7-b92a-40a3-afd2-7a46fe11b257",
   "metadata": {},
   "outputs": [],
   "source": []
  }
 ],
 "metadata": {
  "kernelspec": {
   "display_name": "Python 3 (ipykernel)",
   "language": "python",
   "name": "python3"
  },
  "language_info": {
   "codemirror_mode": {
    "name": "ipython",
    "version": 3
   },
   "file_extension": ".py",
   "mimetype": "text/x-python",
   "name": "python",
   "nbconvert_exporter": "python",
   "pygments_lexer": "ipython3",
   "version": "3.12.1"
  }
 },
 "nbformat": 4,
 "nbformat_minor": 5
}
