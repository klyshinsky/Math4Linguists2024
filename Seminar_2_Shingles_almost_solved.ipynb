{
  "cells": [
    {
      "cell_type": "markdown",
      "id": "190c4eea",
      "metadata": {
        "id": "190c4eea"
      },
      "source": [
        "# Семинар №2. Префиксное дерево и шинглы"
      ]
    },
    {
      "cell_type": "markdown",
      "id": "b9909fdd",
      "metadata": {
        "id": "b9909fdd"
      },
      "source": [
        "**План**\n",
        "1. Про лабы\n",
        "2. Пишем руками руками префиксное дерево\n",
        "2. Пишем алгоритм шинглов\n",
        "3. Посмотрим на библиотеки, которые сами все это умеют"
      ]
    },
    {
      "cell_type": "code",
      "source": [
        "!pip install pymorphy3"
      ],
      "metadata": {
        "colab": {
          "base_uri": "https://localhost:8080/"
        },
        "id": "qGqUBMwXFuiB",
        "outputId": "a52ad185-da02-45f4-d145-9d4527668308"
      },
      "id": "qGqUBMwXFuiB",
      "execution_count": 1,
      "outputs": [
        {
          "output_type": "stream",
          "name": "stdout",
          "text": [
            "Requirement already satisfied: pymorphy3 in /usr/local/lib/python3.10/dist-packages (2.0.1)\n",
            "Requirement already satisfied: dawg-python>=0.7.1 in /usr/local/lib/python3.10/dist-packages (from pymorphy3) (0.7.2)\n",
            "Requirement already satisfied: pymorphy3-dicts-ru in /usr/local/lib/python3.10/dist-packages (from pymorphy3) (2.4.417150.4580142)\n"
          ]
        }
      ]
    },
    {
      "cell_type": "code",
      "execution_count": 2,
      "id": "cbf150a7",
      "metadata": {
        "colab": {
          "base_uri": "https://localhost:8080/"
        },
        "id": "cbf150a7",
        "outputId": "4586ccc9-ef16-4463-d593-72918192b818"
      },
      "outputs": [
        {
          "output_type": "stream",
          "name": "stderr",
          "text": [
            "[nltk_data] Downloading package punkt to /root/nltk_data...\n",
            "[nltk_data]   Package punkt is already up-to-date!\n"
          ]
        }
      ],
      "source": [
        "from pymorphy3 import MorphAnalyzer\n",
        "from nltk.tokenize import word_tokenize\n",
        "from string import punctuation\n",
        "from functools import cache\n",
        "from typing import Tuple\n",
        "import hashlib\n",
        "from pprint import pprint\n",
        "\n",
        "import nltk\n",
        "nltk.download('punkt')\n",
        "\n",
        "morph = MorphAnalyzer()"
      ]
    },
    {
      "cell_type": "markdown",
      "id": "7deaee34-c964-432d-b263-cdeef2ccc9a3",
      "metadata": {
        "id": "7deaee34-c964-432d-b263-cdeef2ccc9a3"
      },
      "source": [
        "## Прочитаем и подготовим данные"
      ]
    },
    {
      "cell_type": "code",
      "execution_count": 3,
      "id": "59f3248e",
      "metadata": {
        "id": "59f3248e"
      },
      "outputs": [],
      "source": [
        "with open('text_sem2.txt', encoding='utf-8') as f:\n",
        "    text = f.read()"
      ]
    },
    {
      "cell_type": "code",
      "execution_count": 4,
      "id": "201d5070-e298-4b9c-9263-9c72cb590f29",
      "metadata": {
        "id": "201d5070-e298-4b9c-9263-9c72cb590f29"
      },
      "outputs": [],
      "source": [
        "@cache\n",
        "def process_word(word):\n",
        "    if (word not in punctuation) and (word.isalpha()):\n",
        "        word = morph.parse(word.lower())[0].normal_form\n",
        "        return word"
      ]
    },
    {
      "cell_type": "code",
      "execution_count": 5,
      "id": "e2c0e0cc-1e2f-40cc-a945-3eee0655fa87",
      "metadata": {
        "id": "e2c0e0cc-1e2f-40cc-a945-3eee0655fa87"
      },
      "outputs": [],
      "source": [
        "def preprocess_text(text):\n",
        "    words = word_tokenize(text)\n",
        "    res = []\n",
        "    for word in words:\n",
        "        word = process_word(word)\n",
        "        if word is not None:\n",
        "            res.append(word)\n",
        "    return res"
      ]
    },
    {
      "cell_type": "code",
      "execution_count": 6,
      "id": "e6376ada-97d0-4857-9989-75520022b45b",
      "metadata": {
        "colab": {
          "base_uri": "https://localhost:8080/"
        },
        "id": "e6376ada-97d0-4857-9989-75520022b45b",
        "outputId": "27487c83-c635-4665-b417-a98897067fd0"
      },
      "outputs": [
        {
          "output_type": "execute_result",
          "data": {
            "text/plain": [
              "['origanum',\n",
              " 'vulgare',\n",
              " 'а',\n",
              " 'аврор',\n",
              " 'аврора',\n",
              " 'аврорат',\n",
              " 'аврората',\n",
              " 'автор',\n",
              " 'агония',\n",
              " 'агрессивный']"
            ]
          },
          "metadata": {},
          "execution_count": 6
        }
      ],
      "source": [
        "words_lst = preprocess_text(text)\n",
        "words_lst_unique_sorted = [el for el in sorted(set(words_lst))]\n",
        "words_lst_unique_sorted[:10]"
      ]
    },
    {
      "cell_type": "code",
      "execution_count": 7,
      "id": "ce9be234",
      "metadata": {
        "colab": {
          "base_uri": "https://localhost:8080/"
        },
        "id": "ce9be234",
        "outputId": "5e5dcc48-5986-42a7-ab61-f4626891661f"
      },
      "outputs": [
        {
          "output_type": "execute_result",
          "data": {
            "text/plain": [
              "2792"
            ]
          },
          "metadata": {},
          "execution_count": 7
        }
      ],
      "source": [
        "len(words_lst_unique_sorted)"
      ]
    },
    {
      "cell_type": "markdown",
      "id": "89f60699-8427-4308-af47-a33663726049",
      "metadata": {
        "id": "89f60699-8427-4308-af47-a33663726049"
      },
      "source": [
        "## Строим префиксное дерево"
      ]
    },
    {
      "cell_type": "code",
      "execution_count": 8,
      "id": "0085294b-a778-4941-be7a-608944c55372",
      "metadata": {
        "id": "0085294b-a778-4941-be7a-608944c55372"
      },
      "outputs": [],
      "source": [
        "class PrefixTree:\n",
        "    def __init__(self):\n",
        "        self.vocab = {}\n",
        "\n",
        "    def __add(self, word, vocab) -> dict:\n",
        "        if len(word) > 0:\n",
        "            if word[0] not in vocab:\n",
        "                vocab[word[0]] = {'[END]': False}\n",
        "            vocab[word[0]] = self.__add(word[1:], vocab=vocab[word[0]])\n",
        "        else:\n",
        "            vocab['[END]'] = True\n",
        "        return vocab\n",
        "\n",
        "    def add(self, word) -> None:\n",
        "        self.vocab = self.__add(word, self.vocab)\n",
        "\n",
        "    def __find(self, word, vocab) -> bool:\n",
        "        if len(word) > 0:\n",
        "            if word[0] not in vocab:\n",
        "                return False\n",
        "            return self.__find(word[1:], vocab=vocab[word[0]])\n",
        "        return vocab.get('[END]', False)\n",
        "\n",
        "    def find(self, word) -> bool:\n",
        "        return self.__find(word, self.vocab)\n",
        "\n",
        "    def remove(self, word) -> None:\n",
        "        pass"
      ]
    },
    {
      "cell_type": "code",
      "execution_count": 9,
      "id": "e2e0db26-f3af-441f-8982-1b64a2d77b57",
      "metadata": {
        "colab": {
          "base_uri": "https://localhost:8080/"
        },
        "id": "e2e0db26-f3af-441f-8982-1b64a2d77b57",
        "outputId": "00ce10fe-3df2-4c67-fa74-1f00f7afe295"
      },
      "outputs": [
        {
          "output_type": "stream",
          "name": "stdout",
          "text": [
            "{'[END]': True,\n",
            " 'в': {'[END]': False,\n",
            "       'о': {'[END]': False,\n",
            "             'л': {'[END]': False,\n",
            "                   'к': {'[END]': True},\n",
            "                   'ш': {'[END]': False,\n",
            "                         'е': {'[END]': False,\n",
            "                               'б': {'[END]': False,\n",
            "                                     'н': {'[END]': False,\n",
            "                                           'и': {'[END]': False,\n",
            "                                                 'к': {'[END]': True}}}}}}}}}}\n"
          ]
        },
        {
          "output_type": "execute_result",
          "data": {
            "text/plain": [
              "True"
            ]
          },
          "metadata": {},
          "execution_count": 9
        }
      ],
      "source": [
        "tree = PrefixTree()\n",
        "tree.add('волшебник')\n",
        "tree.add('волк')\n",
        "tree.add('')\n",
        "pprint(tree.vocab)\n",
        "tree.find('')\n",
        "# tree.remove('волшебник')"
      ]
    },
    {
      "cell_type": "markdown",
      "id": "d532a64b-263a-424c-9973-9822f8f9e5bd",
      "metadata": {
        "id": "d532a64b-263a-424c-9973-9822f8f9e5bd"
      },
      "source": [
        "## Алгоритм шинглов"
      ]
    },
    {
      "cell_type": "markdown",
      "id": "63759fec-7972-412a-bac6-909068353d78",
      "metadata": {
        "id": "63759fec-7972-412a-bac6-909068353d78"
      },
      "source": [
        "Данные алгоритм был придуман, чтобы искать плагиат в текстах. Сейчас существуют более совершенные с точки зрения качества, но менее быстрые алгориитмы, однако шинглированеие все еще используется.\n",
        "\n",
        "Алгоритм следующий:\n",
        "- Нормализуем текст (лемматизация, удаление стоп-слов и пунктуации)\n",
        "- Разбиваем его на шинглы: окна в N текстов с отступом в K текстов (N > K)\n",
        "- Считаем хэши по шинглам\n",
        "- Сравниваем контрльные суммы. Если находим много совпадений, то считаем, что тексты очень похожи."
      ]
    },
    {
      "cell_type": "code",
      "execution_count": 10,
      "id": "70ed8d9c-a232-4e66-b966-16891d82638b",
      "metadata": {
        "id": "70ed8d9c-a232-4e66-b966-16891d82638b"
      },
      "outputs": [],
      "source": [
        "texts = [\n",
        "    'Кошки являются одними из самых популярных домашних животных. Они обладают прекрасным инстинктом охотника и неповторимым характером. Кошки известны своей независимостью, но при этом могут быть очень преданными и ласковыми к своим хозяевам. Они мастера по комфортному расслаблению и настоящим ценителям уютного места для сна. Кошки также отличаются своей элегантностью и грациозностью. Их изящные движения и манера двигаться делают их настоящими королевами, даже когда они просто играют или прогуливаются по дому.',\n",
        "    'Кошки - удивительные создания с мягкой шерстью и умными глазами. Они способны привносить радость и умиротворение в нашу жизнь. Кошки обладают способностью самостоятельно следить за собой, что делает их идеальными домашними животными для тех, кто ценит чистоту и порядок. Они часто проявляют свою ласку и привязанность к своим хозяевам. Игры с кошками могут стать незабываемым развлечением, их ловкость и быстрота поражают наблюдателей. Кошки - это прекрасные компаньоны, которые могут дарить нам уют и радость каждый день.',\n",
        "    'Кошки - это загадочные и красивые создания, что позволяет им занимать особое место в наших сердцах. Их глаза отражают таинственность и мудрость, а их мягкая шерсть манит гладить их без конца. Кошки могут быть самостоятельными, но при этом они жаждут внимания и ласки от своих хозяев. Они обладают уникальным характером, который можно описать как гордый и независимый, но в то же время ласковый и игривый. Наблюдать, как кошка мягко протягивает лапу или усаживается на свое любимое место, отдает нам чувство покоя и спокойствия. Кошки - прекрасные спутники, которые делают нашу жизнь более интересной и яркой.'\n",
        "    'Кошки — загадочные и прекрасные существа, которые завораживают своей грацией и неповторимым характером. Они способны сделать нашу жизнь более яркой и насыщенной. Кошки известны своей независимостью, но несмотря на это, они могут быть верными и преданными друзьями. Они обладают уникальной способностью принимать наши эмоции и поддерживать нас в трудные моменты. Кошки также являются отличными охотниками и отлично подходят для тех, кто хочет иметь домашнего питомца, не требующего особого ухода.',\n",
        "    'Кошки — истинные королевы нашего дома. Они обладают особой грацией и достоинством, которые притягивают взгляды и вызывают восхищение. Кошки являются мастерами по созданию уюта и комфорта в своем окружении. Они обожают ласку и внимание со стороны своих хозяев и готовы доставить им радость и умиротворение своим присутствием. Кошки способны понять нас без слов и стать настоящими спутниками в наших ежедневных заботах.',\n",
        "    'Кошки — таинственные создания, полные загадок и загадочности. Они притягивают наше внимание своими умными и интригующими глазами. Кошки обладают тонким чувством эстетики и красоты, которое отражается в их грациозных движениях и элегантности. Они могут быть игривыми и требовать нашего внимания, но в то же время они умеют наслаждаться тишиной и уединением. Кошки — это идеальные компаньоны для тех, кто ценит спокойствие и гармонию в своей жизни.'\n",
        "]"
      ]
    },
    {
      "cell_type": "code",
      "execution_count": 11,
      "id": "e839d25f-4c27-4b6d-ac78-6211099193c1",
      "metadata": {
        "id": "e839d25f-4c27-4b6d-ac78-6211099193c1"
      },
      "outputs": [],
      "source": [
        "class Shingler:\n",
        "    def __init__(self,):\n",
        "        pass\n",
        "\n",
        "    def fit(self, data):\n",
        "        # hashlib.md5(t.encode()).hexdigest()\n",
        "        pass\n",
        "\n",
        "    def get_closest(self, text, n=3):\n",
        "        pass"
      ]
    },
    {
      "cell_type": "code",
      "execution_count": 12,
      "id": "60af6695-2a50-4ad8-9df3-a4042abd1281",
      "metadata": {
        "id": "60af6695-2a50-4ad8-9df3-a4042abd1281"
      },
      "outputs": [],
      "source": [
        "shgl = Shingler()\n",
        "shgl.fit(texts)"
      ]
    },
    {
      "cell_type": "code",
      "execution_count": 13,
      "id": "e8f81e31-36c1-43a5-88b3-2c5b32ad09b3",
      "metadata": {
        "id": "e8f81e31-36c1-43a5-88b3-2c5b32ad09b3"
      },
      "outputs": [],
      "source": [
        "shgl.get_closest(texts[2], n=3)"
      ]
    },
    {
      "cell_type": "markdown",
      "id": "468ca5a6-2b6a-404a-8508-e8171a2dc9c9",
      "metadata": {
        "id": "468ca5a6-2b6a-404a-8508-e8171a2dc9c9"
      },
      "source": [
        "## Библиотеки"
      ]
    },
    {
      "cell_type": "markdown",
      "id": "2af84585-8a11-4436-b9ee-e71fc62405e4",
      "metadata": {
        "id": "2af84585-8a11-4436-b9ee-e71fc62405e4"
      },
      "source": [
        "**Префиксное дерево**\n",
        "\n",
        "[Дока](https://pygtrie.readthedocs.io/en/latest/)"
      ]
    },
    {
      "cell_type": "code",
      "execution_count": 14,
      "id": "3e664ee1-69d2-4624-adcb-7296da0b5528",
      "metadata": {
        "id": "3e664ee1-69d2-4624-adcb-7296da0b5528"
      },
      "outputs": [],
      "source": [
        "!pip install pygtrie -q"
      ]
    },
    {
      "cell_type": "code",
      "execution_count": 15,
      "id": "45311e20-0679-45dd-bf61-71ec923ac8f1",
      "metadata": {
        "id": "45311e20-0679-45dd-bf61-71ec923ac8f1"
      },
      "outputs": [],
      "source": [
        "import pygtrie"
      ]
    },
    {
      "cell_type": "code",
      "execution_count": 16,
      "id": "b16cec20-a15a-45c9-a94a-0b2638c7abe9",
      "metadata": {
        "colab": {
          "base_uri": "https://localhost:8080/"
        },
        "id": "b16cec20-a15a-45c9-a94a-0b2638c7abe9",
        "outputId": "dc20d3ef-32af-41e3-d14e-2be03957cdf5"
      },
      "outputs": [
        {
          "output_type": "execute_result",
          "data": {
            "text/plain": [
              "(True, False, True)"
            ]
          },
          "metadata": {},
          "execution_count": 16
        }
      ],
      "source": [
        "t = pygtrie.CharTrie()\n",
        "t['wombat'] = True\n",
        "t.has_subtrie('wo'), t.has_key('wo'), t.has_key('wombat')"
      ]
    },
    {
      "cell_type": "markdown",
      "id": "6e1219f5-ddaf-4c8c-887b-25cec43643fe",
      "metadata": {
        "id": "6e1219f5-ddaf-4c8c-887b-25cec43643fe"
      },
      "source": [
        "Давайте положим сюда текст, с которым работали выше"
      ]
    },
    {
      "cell_type": "code",
      "execution_count": 17,
      "id": "1312b3cd-148e-495e-b81e-6aa3bd323556",
      "metadata": {
        "id": "1312b3cd-148e-495e-b81e-6aa3bd323556"
      },
      "outputs": [],
      "source": [
        "# code\n",
        "..."
      ]
    },
    {
      "cell_type": "markdown",
      "id": "db224d4e-cb2f-4501-9cf6-00012da8e068",
      "metadata": {
        "id": "db224d4e-cb2f-4501-9cf6-00012da8e068"
      },
      "source": [
        "**Шинглы** (char-based)\n",
        "\n",
        "[Дока](https://github.com/ulf1/kshingle)"
      ]
    },
    {
      "cell_type": "code",
      "execution_count": 18,
      "id": "b4b011c2-f748-462a-b3db-bb677b579207",
      "metadata": {
        "colab": {
          "base_uri": "https://localhost:8080/"
        },
        "id": "b4b011c2-f748-462a-b3db-bb677b579207",
        "outputId": "5d7f06cf-271b-4746-b85b-ab115a7ab794"
      },
      "outputs": [
        {
          "output_type": "stream",
          "name": "stdout",
          "text": [
            "  Preparing metadata (setup.py) ... \u001b[?25l\u001b[?25hdone\n",
            "  Building wheel for kshingle (setup.py) ... \u001b[?25l\u001b[?25hdone\n"
          ]
        }
      ],
      "source": [
        "!pip install \"kshingle>=0.10.0,<1\" -q"
      ]
    },
    {
      "cell_type": "code",
      "execution_count": 19,
      "id": "f0cbf325-722f-4f82-b0e4-38be11b9e72a",
      "metadata": {
        "id": "f0cbf325-722f-4f82-b0e4-38be11b9e72a"
      },
      "outputs": [],
      "source": [
        "import kshingle as ks"
      ]
    },
    {
      "cell_type": "code",
      "execution_count": 20,
      "id": "49ce797d-82fc-46a5-a42d-594a7fde7db9",
      "metadata": {
        "colab": {
          "base_uri": "https://localhost:8080/"
        },
        "id": "49ce797d-82fc-46a5-a42d-594a7fde7db9",
        "outputId": "3ded41b3-3a85-4e73-f311-ae752e77ff14"
      },
      "outputs": [
        {
          "output_type": "stream",
          "name": "stdout",
          "text": [
            "{'ab', 'bc', 'c', 'a', 'b', 'abc'}\n",
            "{'ab', 'bc', 'abc'}\n",
            "{'c', 'a', 'abc', 'b'}\n"
          ]
        }
      ],
      "source": [
        "shingles = ks.shingleset_k(\"abc\", k=3)\n",
        "print(shingles)\n",
        "\n",
        "shingles = ks.shingleset_range(\"abc\", 2, 3)\n",
        "print(shingles)\n",
        "\n",
        "shingles = ks.shingleset_list(\"abc\", [1, 3])\n",
        "print(shingles)"
      ]
    },
    {
      "cell_type": "code",
      "execution_count": 21,
      "id": "7eb8de44-3ef5-4058-8de8-de621c18af75",
      "metadata": {
        "colab": {
          "base_uri": "https://localhost:8080/"
        },
        "id": "7eb8de44-3ef5-4058-8de8-de621c18af75",
        "outputId": "99158484-994e-41e8-ff7f-4cbc0b99a8dd"
      },
      "outputs": [
        {
          "output_type": "execute_result",
          "data": {
            "text/plain": [
              "0.5128205128205128"
            ]
          },
          "metadata": {},
          "execution_count": 21
        }
      ],
      "source": [
        "metric = ks.jaccard_strings(\"Bericht\", \"berichten\", k=5)\n",
        "metric"
      ]
    },
    {
      "cell_type": "markdown",
      "id": "beb8a5c7-c44b-4a0a-8af1-891626c9d3d4",
      "metadata": {
        "id": "beb8a5c7-c44b-4a0a-8af1-891626c9d3d4"
      },
      "source": [
        "Давайте сравним наши тексты из пункта про шинглы"
      ]
    },
    {
      "cell_type": "code",
      "execution_count": 21,
      "id": "b570dba7-b92a-40a3-afd2-7a46fe11b257",
      "metadata": {
        "id": "b570dba7-b92a-40a3-afd2-7a46fe11b257"
      },
      "outputs": [],
      "source": []
    }
  ],
  "metadata": {
    "kernelspec": {
      "display_name": "Python 3 (ipykernel)",
      "language": "python",
      "name": "python3"
    },
    "language_info": {
      "codemirror_mode": {
        "name": "ipython",
        "version": 3
      },
      "file_extension": ".py",
      "mimetype": "text/x-python",
      "name": "python",
      "nbconvert_exporter": "python",
      "pygments_lexer": "ipython3",
      "version": "3.11.5"
    },
    "colab": {
      "provenance": []
    }
  },
  "nbformat": 4,
  "nbformat_minor": 5
}