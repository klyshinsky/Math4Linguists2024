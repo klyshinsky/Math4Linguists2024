{
  "nbformat": 4,
  "nbformat_minor": 0,
  "metadata": {
    "colab": {
      "provenance": []
    },
    "kernelspec": {
      "name": "python3",
      "display_name": "Python 3"
    },
    "language_info": {
      "name": "python"
    }
  },
  "cells": [
    {
      "cell_type": "markdown",
      "source": [
        "Конечные автоматы\n",
        "\n",
        "1. нарисуем несколько КА по регулярным выражениям\n",
        "2. посмотрим на применение КА в качестве машин состояний\n",
        "3. напишем на питоне"
      ],
      "metadata": {
        "id": "vTvEKI9pHgGp"
      }
    },
    {
      "cell_type": "code",
      "execution_count": null,
      "metadata": {
        "id": "MYoClUhxHInX",
        "colab": {
          "base_uri": "https://localhost:8080/"
        },
        "outputId": "3e068ed5-8ea0-4128-9400-677a3d4df75a"
      },
      "outputs": [
        {
          "output_type": "stream",
          "name": "stdout",
          "text": [
            "String not accepted\n"
          ]
        }
      ],
      "source": [
        "# prompt: implement a FSA as a graph with states. use pure python and avoid using classes\n",
        "\n",
        "# Define a transition function\n",
        "transition = {\n",
        "    ('q0', 'a'): 'q1',\n",
        "    ('q1', 'b'): 'q1',\n",
        "    ('q1', 'c'): 'q3',\n",
        "    ('q3', 'd'): 'q4',\n",
        "}\n",
        "\n",
        "# Define the start state and accepting states\n",
        "start_state = 'q0'\n",
        "accepting_states = {'q4'}\n",
        "\n",
        "# Test the transition function\n",
        "current_state = start_state\n",
        "for symbol in 'aс':\n",
        "    current_state = transition.get((current_state, symbol), None)\n",
        "\n",
        "# Check if the current state is accepting\n",
        "if current_state in accepting_states:\n",
        "    print('String accepted')\n",
        "else:\n",
        "    print('String not accepted')\n"
      ]
    },
    {
      "cell_type": "markdown",
      "source": [
        "# Трансдьюсеры"
      ],
      "metadata": {
        "id": "N9lAAZpcHicU"
      }
    },
    {
      "cell_type": "markdown",
      "metadata": {
        "id": "2FlcTHZ486iw"
      },
      "source": [
        "Проходя по стрелке в автомате, можно что-то печатать!\n",
        "\n",
        "Например, `h` транслитерируется в `ш` только если перед ней была `s`, причём `s` в таком случае не должна была превратиться в `c`.\n",
        "\n",
        "Давайте заведём два состояния:\n",
        "0. \"мы видим букву и перед ней мы видели букву s\" и\n",
        "1. \"все остальные случаи\"\n",
        "\n",
        "\n",
        "\n",
        "Если от лени свести английский язык к буквам `abfsh`, то вышерассказанныя транслитерация иллюстрируется так.\n",
        "\n",
        "<img src=\"https://raw.githubusercontent.com/math4linguists/stuff/3f86812641694fb72cc8c3f00e7317e9e0c4b04a//img/transducer.jpg\" alt=\"transducer written\" width=\"250\"/>\n",
        "\n"
      ]
    },
    {
      "cell_type": "code",
      "source": [
        "# prompt: implement a FSA as a graph with states. use pure python and avoid using classes\n",
        "\n",
        "# Define a transition function\n",
        "transition = {\n",
        "    ('q0', 'a:а'): 'q0',\n",
        "    ('q0', 'h:х'): 'q0',\n",
        "    ('q0', '$:'): 'q0',\n",
        "    ('q0', 's:'): 'q1',\n",
        "    ('q1', 'h:ш'): 'q0',\n",
        "    ('q1', 's:сс'): 'q0',\n",
        "    ('q1', 'a:са'): 'q0',\n",
        "    ('q1', '$:с'): 'q0',\n",
        "}\n",
        "\n",
        "# Define the start state and accepting states\n",
        "start_state = 'q0'\n",
        "accepting_states = {'q0', 'q1'}\n",
        "\n",
        "# Test the transition function\n",
        "def get_state(current_state, symbol):\n",
        "    for (src_state, program), tgt_state in transition.items():\n",
        "        if src_state == current_state and program[0] == symbol:\n",
        "            return tgt_state, program[2:]\n",
        "    return None, ''\n",
        "\n",
        "\n",
        "current_state = start_state\n",
        "string_to_check = 'ah'\n",
        "for symbol in string_to_check+'$':\n",
        "    current_state, to_print = get_state(current_state, symbol)\n",
        "    print(to_print)\n",
        "\n",
        "# Check if the current state is accepting\n",
        "if current_state in accepting_states:\n",
        "    print('String accepted')\n",
        "else:\n",
        "    print('String not accepted')\n"
      ],
      "metadata": {
        "colab": {
          "base_uri": "https://localhost:8080/"
        },
        "id": "A8hrI1wxnngt",
        "outputId": "06d77c89-62ca-4d8c-d781-405ad8971e2c"
      },
      "execution_count": null,
      "outputs": [
        {
          "output_type": "stream",
          "name": "stdout",
          "text": [
            "а\n",
            "х\n",
            "\n",
            "String accepted\n"
          ]
        }
      ]
    },
    {
      "cell_type": "code",
      "source": [
        "# упражнение: реализовать такой трансдьюсер на питоне"
      ],
      "metadata": {
        "id": "e_DpoCeEHkLl"
      },
      "execution_count": null,
      "outputs": []
    },
    {
      "cell_type": "markdown",
      "source": [
        "Пример трансдьюсеров для морфоанализа\n",
        "1. https://github.com/hfst/compmorph-course/blob/main/Lecture1/Lecture.ipynb\n",
        "2. https://cl.indiana.edu/~ftyers/courses/2019/Spring/L-545/practicals/02.html"
      ],
      "metadata": {
        "id": "6OAJfM36QYui"
      }
    },
    {
      "cell_type": "markdown",
      "source": [
        "## машина состояний в диалоговых системах\n",
        "Ссылки\n",
        "\n",
        "*   https://cloud.google.com/dialogflow/cx/docs/quick/build-agent\n",
        "*   https://gcloud.devoteam.com/blog/how-googles-new-dialogflow-cx-will-change-conversational-ai/\n",
        "\n"
      ],
      "metadata": {
        "id": "ojtlfJHtQs3d"
      }
    },
    {
      "cell_type": "markdown",
      "source": [],
      "metadata": {
        "id": "laMP07Y9HkZt"
      }
    },
    {
      "cell_type": "code",
      "source": [],
      "metadata": {
        "id": "vy5ENveQMCaz"
      },
      "execution_count": null,
      "outputs": []
    },
    {
      "cell_type": "code",
      "source": [],
      "metadata": {
        "id": "ZPlB5E-wHmoz"
      },
      "execution_count": null,
      "outputs": []
    }
  ]
}